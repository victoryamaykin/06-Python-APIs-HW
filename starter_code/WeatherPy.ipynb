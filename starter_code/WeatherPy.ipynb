{
 "cells": [
  {
   "cell_type": "markdown",
   "metadata": {},
   "source": [
    "# WeatherPy\n",
    "----\n",
    "\n",
    "### Analysis\n",
    "* As expected, the weather becomes significantly warmer as one approaches the equator (0 Deg. Latitude). More interestingly, however, is the fact that the southern hemisphere tends to be warmer this time of year than the northern hemisphere. This may be due to the tilt of the earth.\n",
    "* There is no strong relationship between latitude and cloudiness. However, it is interesting to see that a strong band of cities sits at 0, 80, and 100% cloudiness.\n",
    "* There is no strong relationship between latitude and wind speed. However, in northern hemispheres there is a flurry of cities with over 20 mph of wind.\n",
    "\n",
    "---\n",
    "\n",
    "#### Note\n",
    "* Instructions have been included for each segment. You do not have to follow them exactly, but they are included to help you think through the steps."
   ]
  },
  {
   "cell_type": "code",
   "execution_count": 59,
   "metadata": {
    "scrolled": true
   },
   "outputs": [],
   "source": [
    "# Dependencies and Setup\n",
    "import csv\n",
    "import json\n",
    "from pprint import pprint\n",
    "import matplotlib.pyplot as plt\n",
    "import pandas as pd\n",
    "import numpy as np\n",
    "import requests\n",
    "import time\n",
    "\n",
    "# Import API key\n",
    "from api_keys import api_key\n",
    "\n",
    "# Incorporated citipy to determine city based on latitude and longitude\n",
    "from citipy import citipy\n",
    "\n",
    "# Output File (CSV)\n",
    "output_data_file = \"../output_data/cities.csv\"\n",
    "\n",
    "# Range of latitudes and longitudes\n",
    "lat_range = (-90, 90)\n",
    "lng_range = (-180, 180)"
   ]
  },
  {
   "cell_type": "markdown",
   "metadata": {},
   "source": [
    "## Generate Cities List"
   ]
  },
  {
   "cell_type": "code",
   "execution_count": 33,
   "metadata": {},
   "outputs": [
    {
     "data": {
      "text/html": [
       "<div>\n",
       "<style scoped>\n",
       "    .dataframe tbody tr th:only-of-type {\n",
       "        vertical-align: middle;\n",
       "    }\n",
       "\n",
       "    .dataframe tbody tr th {\n",
       "        vertical-align: top;\n",
       "    }\n",
       "\n",
       "    .dataframe thead th {\n",
       "        text-align: right;\n",
       "    }\n",
       "</style>\n",
       "<table border=\"1\" class=\"dataframe\">\n",
       "  <thead>\n",
       "    <tr style=\"text-align: right;\">\n",
       "      <th></th>\n",
       "      <th>City</th>\n",
       "      <th>Cloudiness</th>\n",
       "      <th>Country</th>\n",
       "      <th>Date</th>\n",
       "      <th>Humidity</th>\n",
       "      <th>Lat</th>\n",
       "      <th>Lng</th>\n",
       "      <th>Max Temp</th>\n",
       "      <th>Wind Speed</th>\n",
       "    </tr>\n",
       "  </thead>\n",
       "  <tbody>\n",
       "    <tr>\n",
       "      <th>0</th>\n",
       "      <td>bur gabo</td>\n",
       "      <td></td>\n",
       "      <td></td>\n",
       "      <td>NaN</td>\n",
       "      <td>NaN</td>\n",
       "      <td>NaN</td>\n",
       "      <td>NaN</td>\n",
       "      <td>NaN</td>\n",
       "      <td>NaN</td>\n",
       "    </tr>\n",
       "    <tr>\n",
       "      <th>1</th>\n",
       "      <td>yellowknife</td>\n",
       "      <td></td>\n",
       "      <td></td>\n",
       "      <td>NaN</td>\n",
       "      <td>NaN</td>\n",
       "      <td>NaN</td>\n",
       "      <td>NaN</td>\n",
       "      <td>NaN</td>\n",
       "      <td>NaN</td>\n",
       "    </tr>\n",
       "    <tr>\n",
       "      <th>2</th>\n",
       "      <td>tuatapere</td>\n",
       "      <td></td>\n",
       "      <td></td>\n",
       "      <td>NaN</td>\n",
       "      <td>NaN</td>\n",
       "      <td>NaN</td>\n",
       "      <td>NaN</td>\n",
       "      <td>NaN</td>\n",
       "      <td>NaN</td>\n",
       "    </tr>\n",
       "    <tr>\n",
       "      <th>3</th>\n",
       "      <td>ribeira grande</td>\n",
       "      <td></td>\n",
       "      <td></td>\n",
       "      <td>NaN</td>\n",
       "      <td>NaN</td>\n",
       "      <td>NaN</td>\n",
       "      <td>NaN</td>\n",
       "      <td>NaN</td>\n",
       "      <td>NaN</td>\n",
       "    </tr>\n",
       "    <tr>\n",
       "      <th>4</th>\n",
       "      <td>hermanus</td>\n",
       "      <td></td>\n",
       "      <td></td>\n",
       "      <td>NaN</td>\n",
       "      <td>NaN</td>\n",
       "      <td>NaN</td>\n",
       "      <td>NaN</td>\n",
       "      <td>NaN</td>\n",
       "      <td>NaN</td>\n",
       "    </tr>\n",
       "  </tbody>\n",
       "</table>\n",
       "</div>"
      ],
      "text/plain": [
       "             City Cloudiness Country  Date  Humidity  Lat  Lng  Max Temp  \\\n",
       "0        bur gabo                      NaN       NaN  NaN  NaN       NaN   \n",
       "1     yellowknife                      NaN       NaN  NaN  NaN       NaN   \n",
       "2       tuatapere                      NaN       NaN  NaN  NaN       NaN   \n",
       "3  ribeira grande                      NaN       NaN  NaN  NaN       NaN   \n",
       "4        hermanus                      NaN       NaN  NaN  NaN       NaN   \n",
       "\n",
       "   Wind Speed  \n",
       "0         NaN  \n",
       "1         NaN  \n",
       "2         NaN  \n",
       "3         NaN  \n",
       "4         NaN  "
      ]
     },
     "execution_count": 33,
     "metadata": {},
     "output_type": "execute_result"
    }
   ],
   "source": [
    "# List for holding lat_lngs and cities\n",
    "lat_lngs = []\n",
    "cities = []\n",
    "\n",
    "# Create a set of random lat and lng combinations\n",
    "lats = np.random.uniform(low=-90.000, high=90.000, size=150)\n",
    "lngs = np.random.uniform(low=-180.000, high=180.000, size=150)\n",
    "lat_lngs = zip(lats, lngs)\n",
    "\n",
    "# Identify nearest city for each lat, lng combination\n",
    "for lat_lng in lat_lngs:\n",
    "    city = citipy.nearest_city(lat_lng[0], lat_lng[1]).city_name\n",
    "    \n",
    "    # If the city is unique, then add it to a our cities list\n",
    "    if city not in cities:\n",
    "        cities.append(city)\n",
    "\n",
    "# Print the city count to confirm sufficient count\n",
    "len(cities)\n",
    "\n",
    "df = pd.DataFrame({\n",
    "    \"City\": cities\n",
    "})\n",
    "\n",
    "df.to_csv(output_data_file)\n",
    "\n",
    "data = pd.read_csv(\"../output_data/cities.csv\")\n",
    "\n",
    "data[\"City\"] = cities\n",
    "data[\"Cloudiness\"] = \"\"\n",
    "data[\"Country\"] = \"\"\n",
    "data[\"date\"] = \"\"\n",
    "data[\"humidity\"] = \"\"\n",
    "data[\"lat\"] = \"\"\n",
    "data[\"lon\"] = \"\"\n",
    "data[\"max temp\"] = \"\"\n",
    "data[\"wind speed\"] = \"\"\n",
    "\n",
    "\n",
    "column_names = [\"City\", \"Cloudiness\", \"Country\", \"Date\", \"Humidity\", \"Lat\", \"Lng\", \"Max Temp\", \"Wind Speed\"]\n",
    "\n",
    "data = pd.DataFrame(data, columns=column_names)\n",
    "data.head()"
   ]
  },
  {
   "cell_type": "code",
   "execution_count": 34,
   "metadata": {},
   "outputs": [
    {
     "name": "stdout",
     "output_type": "stream",
     "text": [
      "{'base': 'stations',\n",
      " 'clouds': {'all': 0},\n",
      " 'cod': 200,\n",
      " 'coord': {'lat': -13.71, 'lon': -76.2},\n",
      " 'dt': 1552428000,\n",
      " 'id': 3932145,\n",
      " 'main': {'humidity': 30,\n",
      "          'pressure': 1006,\n",
      "          'temp': 295.15,\n",
      "          'temp_max': 295.15,\n",
      "          'temp_min': 295.15},\n",
      " 'name': 'Pisco',\n",
      " 'sys': {'country': 'PE',\n",
      "         'id': 8691,\n",
      "         'message': 0.0039,\n",
      "         'sunrise': 1552388881,\n",
      "         'sunset': 1552432821,\n",
      "         'type': 1},\n",
      " 'visibility': 10000,\n",
      " 'weather': [{'description': 'clear sky',\n",
      "              'icon': '01d',\n",
      "              'id': 800,\n",
      "              'main': 'Clear'}],\n",
      " 'wind': {'deg': 220, 'speed': 9.3}}\n"
     ]
    }
   ],
   "source": [
    "city = \"pisco\"\n",
    "url = \"http://api.openweathermap.org/data/2.5/weather?\"\n",
    "\n",
    "query_url = url + \"appid=\" + api_key + \"&q=\" + city\n",
    "\n",
    "response = requests.get(query_url).json()\n",
    "\n",
    "pprint(response)"
   ]
  },
  {
   "cell_type": "markdown",
   "metadata": {},
   "source": [
    "### Perform API Calls\n",
    "* Perform a weather check on each city using a series of successive API calls.\n",
    "* Include a print log of each city as it'sbeing processed (with the city number and city name).\n"
   ]
  },
  {
   "cell_type": "code",
   "execution_count": 56,
   "metadata": {},
   "outputs": [
    {
     "name": "stdout",
     "output_type": "stream",
     "text": [
      "Retrieving Results for Index 0: bur gabo.\n",
      "Missing field/result... skipping.\n",
      "------------\n",
      "Retrieving Results for Index 1: yellowknife.\n",
      "------------\n",
      "Retrieving Results for Index 2: tuatapere.\n",
      "------------\n",
      "Retrieving Results for Index 3: ribeira grande.\n",
      "------------\n",
      "Retrieving Results for Index 4: hermanus.\n",
      "------------\n",
      "Retrieving Results for Index 5: dikson.\n",
      "------------\n",
      "Retrieving Results for Index 6: ushuaia.\n",
      "------------\n",
      "Retrieving Results for Index 7: providencia.\n",
      "------------\n",
      "Retrieving Results for Index 8: hilo.\n",
      "------------\n",
      "Retrieving Results for Index 9: aklavik.\n",
      "------------\n",
      "Retrieving Results for Index 10: provideniya.\n",
      "------------\n",
      "Retrieving Results for Index 11: te anau.\n",
      "------------\n",
      "Retrieving Results for Index 12: longyearbyen.\n",
      "------------\n",
      "Retrieving Results for Index 13: rikitea.\n",
      "------------\n"
     ]
    }
   ],
   "source": [
    "units = \"imperial\"\n",
    "url = \"http://api.openweathermap.org/data/2.5/weather?\"\n",
    "\n",
    "params = {\n",
    "    \"key\": api_key,\n",
    "    \"units\": units,\n",
    "}\n",
    "\n",
    "for index, row in data.iterrows():\n",
    "    \n",
    "    time.sleep(1)\n",
    "    \n",
    "    city = row['City']\n",
    "    \n",
    "    query_url = url + \"appid=\" + api_key + \"&q=\" + city\n",
    "    \n",
    "    print(f\"Retrieving Results for Index {index}: {city}.\")\n",
    "    \n",
    "    response = requests.get(query_url).json()\n",
    "    \n",
    "    try:\n",
    "        data.loc[index, 'Cloudiness'] = str(response[\"clouds\"][\"all\"])\n",
    "        data.loc[index, 'Country'] = response[\"sys\"][\"country\"]\n",
    "        data.loc[index, \"Date\"] = response[\"dt\"]\n",
    "        data.loc[index, \"Humidity\"] = response[\"main\"][\"humidity\"]\n",
    "\n",
    "\n",
    "        data.loc[index, 'Lat'] = response[\"coord\"][\"lat\"]\n",
    "        data.loc[index, 'Lng'] = response[\"coord\"][\"lon\"]\n",
    "        data.loc[index, \"Max Temp\"] = response[\"main\"][\"temp_max\"]\n",
    "        data.loc[index, \"Wind Speed\"] = response[\"wind\"][\"speed\"]\n",
    "        \n",
    "    except (KeyError, IndexError):\n",
    "        print(\"Missing field/result... skipping.\")\n",
    "        \n",
    "    print(\"------------\")"
   ]
  },
  {
   "cell_type": "markdown",
   "metadata": {},
   "source": [
    "### Convert Raw Data to DataFrame\n",
    "* Export the city data into a .csv.\n",
    "* Display the DataFrame"
   ]
  },
  {
   "cell_type": "code",
   "execution_count": 57,
   "metadata": {},
   "outputs": [
    {
     "data": {
      "text/html": [
       "<div>\n",
       "<style scoped>\n",
       "    .dataframe tbody tr th:only-of-type {\n",
       "        vertical-align: middle;\n",
       "    }\n",
       "\n",
       "    .dataframe tbody tr th {\n",
       "        vertical-align: top;\n",
       "    }\n",
       "\n",
       "    .dataframe thead th {\n",
       "        text-align: right;\n",
       "    }\n",
       "</style>\n",
       "<table border=\"1\" class=\"dataframe\">\n",
       "  <thead>\n",
       "    <tr style=\"text-align: right;\">\n",
       "      <th></th>\n",
       "      <th>City</th>\n",
       "      <th>Cloudiness</th>\n",
       "      <th>Country</th>\n",
       "      <th>Date</th>\n",
       "      <th>Humidity</th>\n",
       "      <th>Lat</th>\n",
       "      <th>Lng</th>\n",
       "      <th>Max Temp</th>\n",
       "      <th>Wind Speed</th>\n",
       "    </tr>\n",
       "  </thead>\n",
       "  <tbody>\n",
       "    <tr>\n",
       "      <th>0</th>\n",
       "      <td>bur gabo</td>\n",
       "      <td></td>\n",
       "      <td></td>\n",
       "      <td>NaN</td>\n",
       "      <td>NaN</td>\n",
       "      <td>NaN</td>\n",
       "      <td>NaN</td>\n",
       "      <td>NaN</td>\n",
       "      <td>NaN</td>\n",
       "    </tr>\n",
       "    <tr>\n",
       "      <th>1</th>\n",
       "      <td>yellowknife</td>\n",
       "      <td>75</td>\n",
       "      <td>CA</td>\n",
       "      <td>1.552429e+09</td>\n",
       "      <td>78.0</td>\n",
       "      <td>62.45</td>\n",
       "      <td>-114.38</td>\n",
       "      <td>264.82</td>\n",
       "      <td>7.70</td>\n",
       "    </tr>\n",
       "    <tr>\n",
       "      <th>2</th>\n",
       "      <td>tuatapere</td>\n",
       "      <td>8</td>\n",
       "      <td>NZ</td>\n",
       "      <td>1.552429e+09</td>\n",
       "      <td>78.0</td>\n",
       "      <td>-46.13</td>\n",
       "      <td>167.69</td>\n",
       "      <td>290.37</td>\n",
       "      <td>2.24</td>\n",
       "    </tr>\n",
       "    <tr>\n",
       "      <th>3</th>\n",
       "      <td>ribeira grande</td>\n",
       "      <td>75</td>\n",
       "      <td>PT</td>\n",
       "      <td>1.552424e+09</td>\n",
       "      <td>76.0</td>\n",
       "      <td>38.52</td>\n",
       "      <td>-28.70</td>\n",
       "      <td>287.15</td>\n",
       "      <td>5.70</td>\n",
       "    </tr>\n",
       "    <tr>\n",
       "      <th>4</th>\n",
       "      <td>hermanus</td>\n",
       "      <td>88</td>\n",
       "      <td>ZA</td>\n",
       "      <td>1.552429e+09</td>\n",
       "      <td>97.0</td>\n",
       "      <td>-34.42</td>\n",
       "      <td>19.24</td>\n",
       "      <td>290.37</td>\n",
       "      <td>1.63</td>\n",
       "    </tr>\n",
       "  </tbody>\n",
       "</table>\n",
       "</div>"
      ],
      "text/plain": [
       "             City Cloudiness Country          Date  Humidity    Lat     Lng  \\\n",
       "0        bur gabo                              NaN       NaN    NaN     NaN   \n",
       "1     yellowknife         75      CA  1.552429e+09      78.0  62.45 -114.38   \n",
       "2       tuatapere          8      NZ  1.552429e+09      78.0 -46.13  167.69   \n",
       "3  ribeira grande         75      PT  1.552424e+09      76.0  38.52  -28.70   \n",
       "4        hermanus         88      ZA  1.552429e+09      97.0 -34.42   19.24   \n",
       "\n",
       "   Max Temp  Wind Speed  \n",
       "0       NaN         NaN  \n",
       "1    264.82        7.70  \n",
       "2    290.37        2.24  \n",
       "3    287.15        5.70  \n",
       "4    290.37        1.63  "
      ]
     },
     "execution_count": 57,
     "metadata": {},
     "output_type": "execute_result"
    }
   ],
   "source": [
    "data.to_csv(output_data_file)\n",
    "\n",
    "data.head()"
   ]
  },
  {
   "cell_type": "markdown",
   "metadata": {},
   "source": [
    "### Plotting the Data\n",
    "* Use proper labeling of the plots using plot titles (including date of analysis) and axes labels.\n",
    "* Save the plotted figures as .pngs."
   ]
  },
  {
   "cell_type": "markdown",
   "metadata": {},
   "source": [
    "#### Latitude vs. Temperature Plot"
   ]
  },
  {
   "cell_type": "code",
   "execution_count": 62,
   "metadata": {},
   "outputs": [
    {
     "data": {
      "image/png": "[encoded data removed]",
      "text/plain": [
       "<Figure size 432x288 with 1 Axes>"
      ]
     },
     "metadata": {
      "needs_background": "light"
     },
     "output_type": "display_data"
    }
   ],
   "source": [
    "#Design the scatter plot\n",
    "city_lat = data[\"Lat\"]\n",
    "max_temp = data[\"Max Temp\"]\n",
    "\n",
    "plt.scatter(city_lat, max_temp,marker=\"o\", facecolors=\"blue\", edgecolors=\"black\")\n",
    "\n",
    "#Create title and labels\n",
    "plt.title(f\"City Latitude vs. Max Temperature (03/12/2019)\")\n",
    "\n",
    "plt.xlabel(\"Latitude\")\n",
    "plt.ylabel(\"Max Temperature (F)\")\n",
    "plt.grid()\n",
    "\n",
    "#Save an image of the chart\n",
    "plt.savefig(\"../Images/lat_max_temp_scatter_plot.png\")\n",
    "plt.show()\n"
   ]
  },
  {
   "cell_type": "markdown",
   "metadata": {},
   "source": [
    "#### Latitude vs. Humidity Plot"
   ]
  },
  {
   "cell_type": "code",
   "execution_count": 54,
   "metadata": {},
   "outputs": [
    {
     "data": {
      "image/png": "[encoded data removed]",
      "text/plain": [
       "<Figure size 432x288 with 1 Axes>"
      ]
     },
     "metadata": {
      "needs_background": "light"
     },
     "output_type": "display_data"
    }
   ],
   "source": [
    "#Design the scatter plot\n",
    "city_lat = data[\"Lat\"]\n",
    "humid_data = data[\"Humidity\"]\n",
    "\n",
    "\n",
    "plt.scatter(city_lat, humid_data,marker=\"o\", facecolors=\"blue\", edgecolors=\"black\")\n",
    "\n",
    "#Create title and labels\n",
    "plt.title(\"City Latitude vs. Humidity (03/08/2019)\")\n",
    "\n",
    "plt.xlabel(\"Latitude\")\n",
    "plt.ylabel(\"Humidity (%)\")\n",
    "plt.grid()\n",
    "\n",
    "#Save an image of the chart\n",
    "plt.savefig(\"../Images/lat_humid_scatter_plot.png\")\n",
    "plt.show()"
   ]
  },
  {
   "cell_type": "markdown",
   "metadata": {},
   "source": [
    "#### Latitude vs. Cloudiness Plot"
   ]
  },
  {
   "cell_type": "code",
   "execution_count": 58,
   "metadata": {},
   "outputs": [
    {
     "data": {
      "image/png": "[encoded data removed]",
      "text/plain": [
       "<Figure size 432x288 with 1 Axes>"
      ]
     },
     "metadata": {
      "needs_background": "light"
     },
     "output_type": "display_data"
    }
   ],
   "source": [
    "#Design the scatter plot\n",
    "city_lat = data[\"Lat\"]\n",
    "cloud_data = data[\"Cloudiness\"]\n",
    "\n",
    "\n",
    "plt.scatter(city_lat, cloud_data, marker=\"o\", facecolors=\"blue\", edgecolors=\"black\")\n",
    "\n",
    "#Create title and labels\n",
    "plt.title(\"City Latitude vs. Cloudiness (03/08/2019)\")\n",
    "\n",
    "plt.xlabel(\"Latitude\")\n",
    "plt.ylabel(\"Cloudiness (%)\")\n",
    "plt.grid()\n",
    "\n",
    "#Save an image of the chart\n",
    "plt.savefig(\"../Images/lat_cloud_scatter_plot.png\")\n",
    "plt.show()"
   ]
  },
  {
   "cell_type": "markdown",
   "metadata": {},
   "source": [
    "#### Latitude vs. Wind Speed Plot"
   ]
  },
  {
   "cell_type": "code",
   "execution_count": 40,
   "metadata": {},
   "outputs": [
    {
     "data": {
      "image/png": "[encoded data removed]",
      "text/plain": [
       "<Figure size 432x288 with 1 Axes>"
      ]
     },
     "metadata": {
      "needs_background": "light"
     },
     "output_type": "display_data"
    }
   ],
   "source": [
    "#Design the scatter plot\n",
    "city_lat = data[\"Lat\"]\n",
    "wind_speed_data = data[\"Wind Speed\"]\n",
    "\n",
    "\n",
    "plt.scatter(city_lat, wind_speed_data,marker=\"o\", facecolors=\"blue\", edgecolors=\"black\")\n",
    "\n",
    "#Create title and labels\n",
    "plt.title(\"City Latitude vs. Wind Speed (03/08/2019)\")\n",
    "\n",
    "plt.xlabel(\"Latitude\")\n",
    "plt.ylabel(\"Wind Speed (mph)\")\n",
    "plt.grid()\n",
    "\n",
    "#Save an image of the chart\n",
    "plt.savefig(\"../Images/lat_wind_speed_scatter_plot.png\")\n",
    "plt.show()"
   ]
  },
  {
   "cell_type": "code",
   "execution_count": null,
   "metadata": {},
   "outputs": [],
   "source": []
  }
 ],
 "metadata": {
  "anaconda-cloud": {},
  "kernelspec": {
   "display_name": "Python 3",
   "language": "python",
   "name": "python3"
  },
  "language_info": {
   "codemirror_mode": {
    "name": "ipython",
    "version": 3
   },
   "file_extension": ".py",
   "mimetype": "text/x-python",
   "name": "python",
   "nbconvert_exporter": "python",
   "pygments_lexer": "ipython3",
   "version": "3.7.1"
  }
 },
 "nbformat": 4,
 "nbformat_minor": 2
}
